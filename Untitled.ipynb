{
 "cells": [
  {
   "cell_type": "code",
   "execution_count": 1,
   "id": "9b2cf638",
   "metadata": {},
   "outputs": [],
   "source": [
    "import pandas as pd\n",
    "import requests\n",
    "from bs4 import BeautifulSoup"
   ]
  },
  {
   "cell_type": "code",
   "execution_count": 2,
   "id": "d877655d",
   "metadata": {},
   "outputs": [],
   "source": [
    "url= 'https://www.billboard.com/charts/hot-100'"
   ]
  },
  {
   "cell_type": "code",
   "execution_count": 3,
   "id": "b27f4eca",
   "metadata": {},
   "outputs": [],
   "source": [
    "response=requests.get(url)"
   ]
  },
  {
   "cell_type": "code",
   "execution_count": 4,
   "id": "af04f502",
   "metadata": {},
   "outputs": [],
   "source": [
    "soup=BeautifulSoup(response.content,'html.parser')"
   ]
  },
  {
   "cell_type": "code",
   "execution_count": 5,
   "id": "ce2178cf",
   "metadata": {},
   "outputs": [],
   "source": [
    "#soup.select('span.chart-element__information span ')"
   ]
  },
  {
   "cell_type": "code",
   "execution_count": 6,
   "id": "8d395cff",
   "metadata": {},
   "outputs": [],
   "source": [
    "title=[]\n",
    "artist=[]\n",
    "for i in soup.select('span.chart-element__information__song'):\n",
    "    title.append(i.get_text())\n",
    "for i in soup.select('span.chart-element__information__artist'):\n",
    "    artist.append(i.get_text())"
   ]
  },
  {
   "cell_type": "code",
   "execution_count": 7,
   "id": "87a15fca",
   "metadata": {},
   "outputs": [],
   "source": [
    "hot100=pd.DataFrame({'title':title,'artist':artist})"
   ]
  },
  {
   "cell_type": "code",
   "execution_count": 8,
   "id": "1d63267f",
   "metadata": {},
   "outputs": [
    {
     "data": {
      "text/html": [
       "<div>\n",
       "<style scoped>\n",
       "    .dataframe tbody tr th:only-of-type {\n",
       "        vertical-align: middle;\n",
       "    }\n",
       "\n",
       "    .dataframe tbody tr th {\n",
       "        vertical-align: top;\n",
       "    }\n",
       "\n",
       "    .dataframe thead th {\n",
       "        text-align: right;\n",
       "    }\n",
       "</style>\n",
       "<table border=\"1\" class=\"dataframe\">\n",
       "  <thead>\n",
       "    <tr style=\"text-align: right;\">\n",
       "      <th></th>\n",
       "      <th>title</th>\n",
       "      <th>artist</th>\n",
       "    </tr>\n",
       "  </thead>\n",
       "  <tbody>\n",
       "    <tr>\n",
       "      <th>0</th>\n",
       "      <td>Way 2 Sexy</td>\n",
       "      <td>Drake Featuring Future &amp; Young Thug</td>\n",
       "    </tr>\n",
       "    <tr>\n",
       "      <th>1</th>\n",
       "      <td>Girls Want Girls</td>\n",
       "      <td>Drake Featuring Lil Baby</td>\n",
       "    </tr>\n",
       "    <tr>\n",
       "      <th>2</th>\n",
       "      <td>Fair Trade</td>\n",
       "      <td>Drake Featuring Travis Scott</td>\n",
       "    </tr>\n",
       "    <tr>\n",
       "      <th>3</th>\n",
       "      <td>Champagne Poetry</td>\n",
       "      <td>Drake</td>\n",
       "    </tr>\n",
       "    <tr>\n",
       "      <th>4</th>\n",
       "      <td>Knife Talk</td>\n",
       "      <td>Drake Featuring 21 Savage &amp; Project Pat</td>\n",
       "    </tr>\n",
       "  </tbody>\n",
       "</table>\n",
       "</div>"
      ],
      "text/plain": [
       "              title                                   artist\n",
       "0        Way 2 Sexy      Drake Featuring Future & Young Thug\n",
       "1  Girls Want Girls                 Drake Featuring Lil Baby\n",
       "2        Fair Trade             Drake Featuring Travis Scott\n",
       "3  Champagne Poetry                                    Drake\n",
       "4        Knife Talk  Drake Featuring 21 Savage & Project Pat"
      ]
     },
     "execution_count": 8,
     "metadata": {},
     "output_type": "execute_result"
    }
   ],
   "source": [
    "hot100.head()"
   ]
  },
  {
   "cell_type": "code",
   "execution_count": 9,
   "id": "23cffd63",
   "metadata": {},
   "outputs": [],
   "source": [
    "years=[2018,2019,2020]"
   ]
  },
  {
   "cell_type": "code",
   "execution_count": 10,
   "id": "3a1b207e",
   "metadata": {},
   "outputs": [],
   "source": [
    "from time import sleep\n",
    "from random import randint"
   ]
  },
  {
   "cell_type": "code",
   "execution_count": 11,
   "id": "9f6112e8",
   "metadata": {},
   "outputs": [],
   "source": [
    "pages=[]\n",
    "title1=[]\n",
    "artist1=[]\n",
    "for i in years:\n",
    "    url= 'https://www.elportaldemusica.es/lists/top-100-canciones/'+ str(i)\n",
    "    response=requests.get(url)\n",
    "    response.status_code\n",
    "    pages.append(BeautifulSoup(response.content,'html.parser'))\n",
    "    sleep(2)\n",
    "    for i in pages:\n",
    "        for title in i.select('div.name'):\n",
    "            title1.append(title.get_text().strip())\n",
    "        for artist in i.select('div.related'):\n",
    "            artist1.append(artist.get_text().strip())\n",
    "        \n"
   ]
  },
  {
   "cell_type": "code",
   "execution_count": 12,
   "id": "49085e51",
   "metadata": {},
   "outputs": [],
   "source": [
    "famous=pd.DataFrame({'title':title1,'artist':artist1})"
   ]
  },
  {
   "cell_type": "code",
   "execution_count": 13,
   "id": "c013b7b4",
   "metadata": {},
   "outputs": [],
   "source": [
    "famous=famous.drop_duplicates()"
   ]
  },
  {
   "cell_type": "code",
   "execution_count": 14,
   "id": "3247e2b7",
   "metadata": {},
   "outputs": [],
   "source": [
    "songs_df=pd.concat([hot100,famous],axis=0)"
   ]
  },
  {
   "cell_type": "code",
   "execution_count": null,
   "id": "da20660b",
   "metadata": {},
   "outputs": [],
   "source": [
    "song=input('Song i like: ')"
   ]
  },
  {
   "cell_type": "code",
   "execution_count": null,
   "id": "d2790ca1",
   "metadata": {},
   "outputs": [],
   "source": [
    "titles= list(songs_df['title'].values)"
   ]
  },
  {
   "cell_type": "code",
   "execution_count": null,
   "id": "18060d68",
   "metadata": {},
   "outputs": [],
   "source": [
    "if song in titles:\n",
    "    titles.remove(song)\n",
    "    selected=titles[randint(0,100)]\n",
    "    print(selected)\n",
    "else:\n",
    "    print('no')"
   ]
  },
  {
   "cell_type": "code",
   "execution_count": null,
   "id": "9b57f77a",
   "metadata": {},
   "outputs": [],
   "source": []
  }
 ],
 "metadata": {
  "kernelspec": {
   "display_name": "Python 3",
   "language": "python",
   "name": "python3"
  },
  "language_info": {
   "codemirror_mode": {
    "name": "ipython",
    "version": 3
   },
   "file_extension": ".py",
   "mimetype": "text/x-python",
   "name": "python",
   "nbconvert_exporter": "python",
   "pygments_lexer": "ipython3",
   "version": "3.8.8"
  }
 },
 "nbformat": 4,
 "nbformat_minor": 5
}
